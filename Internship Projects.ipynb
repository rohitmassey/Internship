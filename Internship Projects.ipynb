{
 "cells": [
  {
   "cell_type": "code",
   "execution_count": null,
   "id": "9e7ab739",
   "metadata": {},
   "outputs": [],
   "source": [
    "#11. Write a python program to find the factorial of a number\n",
    "\n",
    "import math\n",
    "def factorial(n):\n",
    "    return(math.factorial(n))\n",
    "num =7\n",
    "print(\"Factorial of\", num, \"is\", factorial(num))"
   ]
  },
  {
   "cell_type": "code",
   "execution_count": null,
   "id": "5f3453e0",
   "metadata": {},
   "outputs": [],
   "source": [
    "#12. Write a python program to find whether a number is prime or composite\n",
    "\n",
    "num=int(input(\"enter number:\"))\n",
    "if num >1:\n",
    "    for i in range(2,num):\n",
    "        if(num % i)==0:\n",
    "            print(num, \"is not prime\")\n",
    "            break\n",
    "    else:\n",
    "        print(num, \"is prime\")\n",
    "elif num ==0 or 1:\n",
    "    print(num, \"is neither prime nor composite\")\n",
    "else:\n",
    "    print(num, \"is composite\")"
   ]
  },
  {
   "cell_type": "code",
   "execution_count": null,
   "id": "5bdfd80d",
   "metadata": {},
   "outputs": [],
   "source": [
    "#13. Write a python program to check whether a given string is palindrome or not\n",
    "\n",
    "x=\"english\"\n",
    "y=\"\"\n",
    "for i in x:\n",
    "    y=i + y\n",
    "if(x==y):\n",
    "    print(\"Yes\")\n",
    "else:\n",
    "    print(\"No\")\n",
    "    "
   ]
  },
  {
   "cell_type": "code",
   "execution_count": null,
   "id": "4a7de8e9",
   "metadata": {},
   "outputs": [],
   "source": [
    "#14. Write a Python program to get the third side of right-angled triangle from two given sides.\n",
    "\n",
    "import math\n",
    "\n",
    "r = float(input(\"enter base:\"))\n",
    "o = float(input(\"enter height:\"))\n",
    "n = float(input(\"enter angle:\"))\n",
    "\n",
    "m=math.sqrt(r**2+o**2)\n",
    "print(\"hypotenuse =\", m)"
   ]
  },
  {
   "cell_type": "code",
   "execution_count": null,
   "id": "125d2cda",
   "metadata": {},
   "outputs": [],
   "source": [
    "#15. Write a python program to print the frequency of each of the characters present in a given string.\n",
    "\n",
    "string=input(\"enter string:\")\n",
    "str1=list(string)\n",
    "strlist=[]\n",
    "for j in str1:\n",
    "    if j not in strlist:\n",
    "        strlist.append(j)\n",
    "        count=0\n",
    "        for i in range(len(str1)):\n",
    "            if j==str1[i]:\n",
    "                count+=1\n",
    "        print(\"{},{}\".format(j,count))"
   ]
  },
  {
   "cell_type": "code",
   "execution_count": 9,
   "id": "37d72a9e",
   "metadata": {},
   "outputs": [
    {
     "ename": "IndentationError",
     "evalue": "expected an indented block (<ipython-input-9-2b7eb02028b0>, line 7)",
     "output_type": "error",
     "traceback": [
      "\u001b[1;36m  File \u001b[1;32m\"<ipython-input-9-2b7eb02028b0>\"\u001b[1;36m, line \u001b[1;32m7\u001b[0m\n\u001b[1;33m    res[keys]=res.get(keys,0)+1\u001b[0m\n\u001b[1;37m    ^\u001b[0m\n\u001b[1;31mIndentationError\u001b[0m\u001b[1;31m:\u001b[0m expected an indented block\n"
     ]
    }
   ],
   "source": [
    "from collection import counter\n",
    "\n",
    "str1=\"rohitmassey\"\n",
    "print(\"given string:\", str1)\n",
    "res={}\n",
    "for keys in str1:\n",
    "res[keys]=res.get(keys,0)+1\n",
    "print(\"each character frequency:\\n\",res)"
   ]
  },
  {
   "cell_type": "code",
   "execution_count": null,
   "id": "6ba91683",
   "metadata": {},
   "outputs": [],
   "source": []
  },
  {
   "cell_type": "code",
   "execution_count": null,
   "id": "37ea50ae",
   "metadata": {},
   "outputs": [],
   "source": []
  }
 ],
 "metadata": {
  "kernelspec": {
   "display_name": "Python 3",
   "language": "python",
   "name": "python3"
  },
  "language_info": {
   "codemirror_mode": {
    "name": "ipython",
    "version": 3
   },
   "file_extension": ".py",
   "mimetype": "text/x-python",
   "name": "python",
   "nbconvert_exporter": "python",
   "pygments_lexer": "ipython3",
   "version": "3.8.8"
  }
 },
 "nbformat": 4,
 "nbformat_minor": 5
}
